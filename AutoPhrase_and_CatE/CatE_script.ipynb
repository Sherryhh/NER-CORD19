{
 "cells": [
  {
   "cell_type": "code",
   "execution_count": 1,
   "metadata": {},
   "outputs": [
    {
     "name": "stdout",
     "output_type": "stream",
     "text": [
      "make: `cate' is up to date.\n",
      "Starting training using file ./datasets/covid19/input_8k.txt\n",
      "Training with specificity; Specificity values output to file ./datasets/covid19/emb_topics_spec.txt\n",
      "Reading topics from file ./datasets/covid19/topics.txt\n",
      "Vocab size: 196307\n",
      "Words in train file: 39251060\n",
      "Loading embedding from file word2vec_100.txt\n",
      "In vocab: 47936\n",
      "Read 10 topics\n",
      "china\tunited_states_of_america\tunited_states\tcanada\taustralia\teuropean_countries\tfrance\tgerman\tjapan\tkorea\tthailand\t\n",
      "covid-19\tsars-cov-2\tsars-cov\tmers-cov\tcoronavirus\talphacoronavirus\tbetacoronavirus\tgammacoronavirus\tdeltacoronavirus\tsars\tcov\tmers\t\n",
      "cattle\tsheep\tpig\tchicken\thorses\treindeer\tgoats\tbison\tpoultry\tducks\tcalves\t\n",
      "bats\tdeer\trabbit\tsnakes\tbirds\tpangolins\tafrican_green_monkeys\tleopard\tsquirrels\tlions\twild_birds\t\n",
      "natural_selection\tgenetic_drift\tmutation_rate\tadaptive_evolution\trapid_evolution\tmolecular_evolution\tattenuating_mutation\tframeshift_mutation\t\n",
      "atomic_charges\tamber_force_field\tvan_der_waals_force\telectrostatic_interaction\tsurface-enhanced_laser_desorption_ionization\telectrospray_ionization\telectromagnetic_field\tfluid_mechanics\tforce_field\tpositively_charged\tnegatively_charged\t\n",
      "blood\tsputum\turine\tsaliva\tsweats\tsperm\ttears\t\n",
      "copper\tstainless_steel\tplastic\tsilica\tglass\ttitanium\taluminum\twood\t\n",
      "adaptive_immune_responses\tcell_mediated_immunity\tinnate_immunity\thumoral_immunity\texcessive_inflammatory_responses\tproinflammatory_responses\timmunization\tinnate_immune\tprotective_immune_response\tpassive_immunity\t\n",
      "quarantine\tsocial_isolation\tscreening\texit_and_entry_screening\tdiagnosis\tentry_screening\texit_screening\tcontrol_measures\tenvironmental_disinfection\tinterventions\tdistancing_behaviours\tvaccination\t\n",
      "Pre-training for 2 epochs, in total 2 + 5 = 7 epochs\n",
      "Alpha: 0.014287  Progress: 42.86%  Words/thread/sec: 58.78k  \n",
      "Category (china): \tchina united_states_of_america united_states canada australia european_countries france german japan korea thailand united_kingdom \n",
      "Category (covid-19): \tcovid-19 sars-cov-2 sars-cov mers-cov coronavirus alphacoronavirus betacoronavirus gammacoronavirus deltacoronavirus sars cov mers beta-coronavirus \n",
      "Category (cattle): \tcattle sheep pig chicken horses reindeer goats bison poultry ducks calves farm \n",
      "Category (bats): \tbats deer rabbit snakes birds pangolins african_green_monkeys leopard squirrels lions wild_birds shrews \n",
      "Category (natural_selection): \tnatural_selection genetic_drift mutation_rate adaptive_evolution rapid_evolution molecular_evolution attenuating_mutation frameshift_mutation purifying_selection \n",
      "Category (atomic_charges): \tatomic_charges amber_force_field van_der_waals_force electrostatic_interaction surface-enhanced_laser_desorption_ionization electrospray_ionization electromagnetic_field fluid_mechanics force_field positively_charged negatively_charged electrostatic \n",
      "Category (blood): \tblood sputum urine saliva sweats sperm tears secretions \n",
      "Category (copper): \tcopper stainless_steel plastic silica glass titanium aluminum wood steel \n",
      "Category (adaptive_immune_responses): \tadaptive_immune_responses cell_mediated_immunity innate_immunity humoral_immunity excessive_inflammatory_responses proinflammatory_responses immunization innate_immune protective_immune_response passive_immunity immune_response \n",
      "Category (quarantine): \tquarantine social_isolation screening exit_and_entry_screening diagnosis entry_screening exit_screening control_measures environmental_disinfection interventions distancing_behaviours vaccination voluntary_quarantine \n",
      "Alpha: 0.010716  Progress: 57.14%  Words/thread/sec: 57.96k  \n",
      "Category (china): \tchina united_states_of_america united_states canada australia european_countries france german japan korea thailand united_kingdom netherlands \n",
      "Category (covid-19): \tcovid-19 sars-cov-2 sars-cov mers-cov coronavirus alphacoronavirus betacoronavirus gammacoronavirus deltacoronavirus sars cov mers beta-coronavirus middle_east_respiratory_syndrome_coronavirus \n",
      "Category (cattle): \tcattle sheep pig chicken horses reindeer goats bison poultry ducks calves farm farms \n",
      "Category (bats): \tbats deer rabbit snakes birds pangolins african_green_monkeys leopard squirrels lions wild_birds shrews tigers \n",
      "Category (natural_selection): \tnatural_selection genetic_drift mutation_rate adaptive_evolution rapid_evolution molecular_evolution attenuating_mutation frameshift_mutation purifying_selection selective_pressure \n",
      "Category (atomic_charges): \tatomic_charges amber_force_field van_der_waals_force electrostatic_interaction surface-enhanced_laser_desorption_ionization electrospray_ionization electromagnetic_field fluid_mechanics force_field positively_charged negatively_charged molecular_geometry electrostatic \n",
      "Category (blood): \tblood sputum urine saliva sweats sperm tears secretions stool \n",
      "Category (copper): \tcopper stainless_steel plastic silica glass titanium aluminum wood steel stainless \n",
      "Category (adaptive_immune_responses): \tadaptive_immune_responses cell_mediated_immunity innate_immunity humoral_immunity excessive_inflammatory_responses proinflammatory_responses immunization innate_immune protective_immune_response passive_immunity immune_responses immune_response \n",
      "Category (quarantine): \tquarantine social_isolation screening exit_and_entry_screening diagnosis entry_screening exit_screening control_measures environmental_disinfection interventions distancing_behaviours vaccination voluntary_quarantine intervention \n",
      "Alpha: 0.007144  Progress: 71.43%  Words/thread/sec: 57.12k  \n",
      "Category (china): \tchina united_states_of_america united_states canada australia european_countries france german japan korea thailand united_kingdom netherlands italy \n",
      "Category (covid-19): \tcovid-19 sars-cov-2 sars-cov mers-cov coronavirus alphacoronavirus betacoronavirus gammacoronavirus deltacoronavirus sars cov mers beta-coronavirus middle_east_respiratory_syndrome_coronavirus 2019-ncov \n",
      "Category (cattle): \tcattle sheep pig chicken horses reindeer goats bison poultry ducks calves farm farms dairy_cattle \n",
      "Category (bats): \tbats deer rabbit snakes birds pangolins african_green_monkeys leopard squirrels lions wild_birds shrews tigers leopards \n",
      "Category (natural_selection): \tnatural_selection genetic_drift mutation_rate adaptive_evolution rapid_evolution molecular_evolution attenuating_mutation frameshift_mutation purifying_selection mutational selective_pressure \n",
      "Category (atomic_charges): \tatomic_charges amber_force_field van_der_waals_force electrostatic_interaction surface-enhanced_laser_desorption_ionization electrospray_ionization electromagnetic_field fluid_mechanics force_field positively_charged negatively_charged molecular_geometry electrostatic oγ \n",
      "Category (blood): \tblood sputum urine saliva sweats sperm tears secretions stool fluid \n",
      "Category (copper): \tcopper stainless_steel plastic silica glass titanium aluminum wood stainless steel teflon \n",
      "Category (adaptive_immune_responses): \tadaptive_immune_responses cell_mediated_immunity innate_immunity humoral_immunity excessive_inflammatory_responses proinflammatory_responses immunization innate_immune protective_immune_response passive_immunity immune_responses cell-mediated innate_and_adaptive_immune_responses \n",
      "Category (quarantine): \tquarantine social_isolation screening exit_and_entry_screening diagnosis entry_screening exit_screening control_measures environmental_disinfection interventions distancing_behaviours vaccination voluntary_quarantine intervention case_detection \n",
      "Alpha: 0.003572  Progress: 85.72%  Words/thread/sec: 55.79k  \n",
      "Category (china): \tchina united_states_of_america united_states canada australia european_countries france german japan korea thailand netherlands united_kingdom italy spain \n",
      "Category (covid-19): \tcovid-19 sars-cov-2 sars-cov mers-cov coronavirus alphacoronavirus betacoronavirus gammacoronavirus deltacoronavirus sars cov mers beta-coronavirus coronaviruses severe_acute_respiratory_syndrome_coronavirus middle_east_respiratory_syndrome_coronavirus \n",
      "Category (cattle): \tcattle sheep pig chicken horses reindeer goats bison poultry ducks calves farms farm dairy_cattle breeders \n",
      "Category (bats): \tbats deer rabbit snakes birds pangolins african_green_monkeys leopard squirrels lions wild_birds shrews tigers lorikeets leopards \n",
      "Category (natural_selection): \tnatural_selection genetic_drift mutation_rate adaptive_evolution rapid_evolution molecular_evolution attenuating_mutation frameshift_mutation purifying_selection mutational evolution selective_pressure \n",
      "Category (atomic_charges): \tatomic_charges amber_force_field van_der_waals_force electrostatic_interaction surface-enhanced_laser_desorption_ionization electrospray_ionization electromagnetic_field fluid_mechanics force_field positively_charged negatively_charged molecular_geometry oγ electrostatic intra-monomer \n",
      "Category (blood): \tblood sputum urine saliva sweats sperm tears stool secretions fluid pericardial_fluid \n",
      "Category (copper): \tcopper stainless_steel plastic silica glass titanium aluminum wood stainless steel teflon stainless-steel \n",
      "Category (adaptive_immune_responses): \tadaptive_immune_responses cell_mediated_immunity innate_immunity humoral_immunity excessive_inflammatory_responses proinflammatory_responses immunization innate_immune protective_immune_response passive_immunity immune_responses cell-mediated innate_and_adaptive_immune_responses immune_response \n",
      "Category (quarantine): \tquarantine social_isolation screening exit_and_entry_screening diagnosis entry_screening exit_screening control_measures environmental_disinfection interventions distancing_behaviours vaccination voluntary_quarantine case_detection intervention bite_victims \n",
      "Alpha: 0.000002  Progress: 100.00%  Words/thread/sec: 55.11k  \n",
      "Category (china): \tchina united_states_of_america united_states canada australia european_countries france german japan korea thailand netherlands united_kingdom italy spain russia \n",
      "Category (covid-19): \tcovid-19 sars-cov-2 sars-cov mers-cov coronavirus alphacoronavirus betacoronavirus gammacoronavirus deltacoronavirus sars cov mers beta-coronavirus coronaviruses severe_acute_respiratory_syndrome_coronavirus -cov middle_east_respiratory_syndrome_coronavirus \n",
      "Category (cattle): \tcattle sheep pig chicken horses reindeer goats bison poultry ducks calves farms farm dairy_cattle breeders beef \n",
      "Category (bats): \tbats deer rabbit snakes birds pangolins african_green_monkeys leopard squirrels lions wild_birds shrews lorikeets leopards tigers pinnipeds \n",
      "Category (natural_selection): \tnatural_selection genetic_drift mutation_rate adaptive_evolution rapid_evolution molecular_evolution attenuating_mutation frameshift_mutation evolution mutational purifying_selection selective_pressure selection_pressures \n",
      "Category (atomic_charges): \tatomic_charges amber_force_field van_der_waals_force electrostatic_interaction surface-enhanced_laser_desorption_ionization electrospray_ionization electromagnetic_field fluid_mechanics force_field positively_charged negatively_charged molecular_geometry intra-monomer oγ electrostatic a-carbon \n",
      "Category (blood): \tblood sputum urine saliva sweats sperm tears pericardial_fluid stool secretions urinary ejaculate \n",
      "Category (copper): \tcopper stainless_steel plastic silica glass titanium aluminum wood stainless steel teflon stainless-steel polycarbonate \n",
      "Category (adaptive_immune_responses): \tadaptive_immune_responses cell_mediated_immunity innate_immunity humoral_immunity excessive_inflammatory_responses proinflammatory_responses immunization innate_immune protective_immune_response passive_immunity immune_responses innate_and_adaptive_immune_responses cell-mediated immune_response adaptive_immunity \n",
      "Category (quarantine): \tquarantine social_isolation screening exit_and_entry_screening diagnosis entry_screening exit_screening control_measures environmental_disinfection interventions distancing_behaviours vaccination bite_victims voluntary_quarantine intervention case_detection border_control \n",
      "Topic mining results written to file ./datasets/covid19/res_topics.txt\n"
     ]
    }
   ],
   "source": [
    "%%bash\n",
    "./run_CatE.sh"
   ]
  }
 ],
 "metadata": {
  "interpreter": {
   "hash": "4f9d3c15bb87c366d7fc897724bdc4a451d79baac0289adcd8bf5cb73dce71e8"
  },
  "kernelspec": {
   "display_name": "Python 3.8.5 64-bit ('base': conda)",
   "language": "python",
   "name": "python3"
  },
  "language_info": {
   "codemirror_mode": {
    "name": "ipython",
    "version": 3
   },
   "file_extension": ".py",
   "mimetype": "text/x-python",
   "name": "python",
   "nbconvert_exporter": "python",
   "pygments_lexer": "ipython3",
   "version": "3.8.5"
  },
  "orig_nbformat": 4
 },
 "nbformat": 4,
 "nbformat_minor": 2
}
