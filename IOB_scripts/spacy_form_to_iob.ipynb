{
 "cells": [
  {
   "cell_type": "code",
   "execution_count": 1,
   "metadata": {},
   "outputs": [],
   "source": [
    "import re\n",
    "import json\n",
    "\n",
    "# with open('./ss-ner_sampled.json') as f:\n",
    "#     data = json.load(f)\n",
    "    \n",
    "# tokenized = re.split(r'\\s+', data[\"body\"])\n",
    "# entities = data[\"entities\"]\n",
    "# print(data)\n"
   ]
  },
  {
   "cell_type": "code",
   "execution_count": 2,
   "metadata": {},
   "outputs": [],
   "source": [
    "with open('./tag_to_id.json') as f:\n",
    "    types = json.load(f)"
   ]
  },
  {
   "cell_type": "code",
   "execution_count": 3,
   "metadata": {},
   "outputs": [],
   "source": [
    "def convert_to_indexed_tags(data):\n",
    "    pattern = r\"\\s+\" # need to split any number of whitespace\n",
    "    tokenized = re.split(pattern, data[\"body\"])\n",
    "    entities = data[\"entities\"]\n",
    "    cur_start = 0\n",
    "    cur_end = 0\n",
    "    state = \"O\" # Outside\n",
    "    tags = []\n",
    "    i = 0\n",
    "    for token in tokenized:\n",
    "        cur_end = cur_start + len(token) # token lies in [cur_start,cur_end], the extra 1 comes from space\n",
    "    #     print(data['body'][cur_start:cur_end])\n",
    "    #     print(cur_end)\n",
    "\n",
    "        if state == \"O\" and cur_start < entities[i]['end'] <= cur_end:\n",
    "            tags.append(\"B-\" + str(entities[i]['type']))\n",
    "            state = \"I-\" + str(entities[i]['type'])\n",
    "        elif state.startswith(\"I-\") and cur_start < entities[i]['start'] <= cur_end:\n",
    "            tags.append(state)\n",
    "            state = \"O\"\n",
    "            i+=1\n",
    "        elif cur_start > entities[i]['end']:\n",
    "            tags.append(state)\n",
    "            state = \"O\"\n",
    "            i+=1\n",
    "        else:\n",
    "            tags.append(state)\n",
    "\n",
    "        if(i >= len(entities)): break # we have iterated all the possible entity matches\n",
    "\n",
    "        cur_start = cur_end + 1\n",
    "\n",
    "        while(cur_start < len(data['body']) and data['body'][cur_start] == ' '): # skip trailing or leading whitespace\n",
    "#             output.append(\"O\")\n",
    "            cur_start += 1\n",
    "        \n",
    "    \n",
    "#     print(tags)\n",
    "    \n",
    "    for i in range(len(tags)):\n",
    "        for key, value in types.items():\n",
    "            if(tags[i].lower() == key.lower()):\n",
    "                tags[i] = value \n",
    "                break\n",
    "    return tags, tokenized\n"
   ]
  },
  {
   "cell_type": "code",
   "execution_count": null,
   "metadata": {},
   "outputs": [],
   "source": []
  },
  {
   "cell_type": "code",
   "execution_count": 4,
   "metadata": {},
   "outputs": [
    {
     "name": "stdout",
     "output_type": "stream",
     "text": [
      "{'O': 0, 'B-country/region': 1, 'I-country/region': 2, 'B-coronavirus': 3, 'I-coronavirus': 4, 'B-livestock': 5, 'I-livestock': 6, 'B-wildlife': 7, 'I-wildlife': 8, 'B-evolution': 10, 'I-evolution': 9, 'B-physical_science': 11, 'I-physical_science': 12, 'B-substrate': 13, 'I-substrate': 14, 'B-material': 15, 'I-material': 16, 'B-immune_response': 17, 'I-immune_response': 18, 'B-covid_activities': 19, 'I-covid_activities': 20}\n"
     ]
    }
   ],
   "source": [
    "print(types)"
   ]
  },
  {
   "cell_type": "code",
   "execution_count": 5,
   "metadata": {},
   "outputs": [],
   "source": [
    "tokenized_articles = []\n",
    "converted_tags = []\n",
    "with open('./SS-NER-full.json') as f:\n",
    "    for article in f:\n",
    "        datum = json.loads(article)\n",
    "        tag, tokenized = convert_to_indexed_tags(datum)\n",
    "        tokenized_articles.append(tokenized)\n",
    "        converted_tags.append(tag)\n",
    "\n",
    "# print(data)\n",
    "# print(tags)"
   ]
  },
  {
   "cell_type": "code",
   "execution_count": 6,
   "metadata": {},
   "outputs": [],
   "source": [
    "# print(tokenized_articles[1])\n",
    "# print(converted_tags[1])"
   ]
  },
  {
   "cell_type": "code",
   "execution_count": 7,
   "metadata": {},
   "outputs": [],
   "source": [
    "def merge_dots(words, converted_tag, start):\n",
    "    str_words = [] # same sentence\n",
    "    str_words_tags = []\n",
    "    end = start\n",
    "    while(end < len(words)-1 and (len(words[end]) == 0 or words[end][-1] != '.')):\n",
    "        str_words.append(words[end])\n",
    "        str_words_tags.append(int(converted_tag[end])) # index must be of number type\n",
    "        end+=1\n",
    "    str_words.append(words[end]) # add the final word that contains dot\n",
    "    str_words_tags.append(int(converted_tag[end]))\n",
    "    end += 1\n",
    "    return str_words, str_words_tags, end # end would be used in the next iteration"
   ]
  },
  {
   "cell_type": "code",
   "execution_count": 8,
   "metadata": {},
   "outputs": [],
   "source": [
    "def split_article_by_dot(tokenized_article, converted_tag, output):\n",
    "    next_start = 0\n",
    "#     sentences = []\n",
    "#     sentences_tags = []\n",
    "#     word_obj_arr = []   \n",
    "    while(next_start < len(tokenized_article)):\n",
    "        str_words_arr, str_words_tags_arr, next_start = merge_dots(tokenized_article, converted_tag, next_start)\n",
    "        word_obj = {\"str_words\":str_words_arr, \"tags\":str_words_tags_arr}\n",
    "        output.append(word_obj)\n",
    "        \n",
    "#     return word_obj_arr"
   ]
  },
  {
   "cell_type": "code",
   "execution_count": 9,
   "metadata": {},
   "outputs": [],
   "source": [
    "output = []\n",
    "for i in range(len(tokenized_articles)):\n",
    "# for i in range(1):\n",
    "    try:\n",
    "        split_article_by_dot(tokenized_articles[i], converted_tags[i], output)\n",
    "#         output.extend(article_word_obj_arr) # add all elements of the list to output\n",
    "    except:\n",
    "        pass # we don't care about the errors\n",
    "# print(converted_tags[0])\n"
   ]
  },
  {
   "cell_type": "code",
   "execution_count": 10,
   "metadata": {},
   "outputs": [],
   "source": [
    "# with open('data.json', 'w') as f:\n",
    "#     json.dump(output, f)"
   ]
  },
  {
   "cell_type": "code",
   "execution_count": 11,
   "metadata": {},
   "outputs": [],
   "source": [
    "# print(len(tokenized_articles))\n",
    "\n",
    "\n",
    "traingin_set = []\n",
    "for i in range(dev_end,len(output)-int(len(output) * 0.94)):\n",
    "    traingin_set.append(output[i])"
   ]
  },
  {
   "cell_type": "code",
   "execution_count": null,
   "metadata": {},
   "outputs": [],
   "source": [
    "test_set = []\n",
    "test_end = int(len(output) * 0.01)\n",
    "for i in range(test_end):\n",
    "    test_set.append(output[i])\n",
    "    \n",
    "dev_set = []\n",
    "dev_end = int(len(output) * 0.01) + test_end\n",
    "for i in range(test_end,dev_end):\n",
    "    dev_set.append(output[i])"
   ]
  },
  {
   "cell_type": "code",
   "execution_count": 12,
   "metadata": {},
   "outputs": [],
   "source": [
    "with open('test.json', 'w') as f:\n",
    "    json.dump(test_set , f)"
   ]
  },
  {
   "cell_type": "code",
   "execution_count": 13,
   "metadata": {},
   "outputs": [],
   "source": [
    "with open('dev.json', 'w') as f:\n",
    "    json.dump(dev_set , f)"
   ]
  },
  {
   "cell_type": "code",
   "execution_count": 14,
   "metadata": {},
   "outputs": [],
   "source": [
    "with open('train.json', 'w') as f:\n",
    "    json.dump(traingin_set , f)"
   ]
  },
  {
   "cell_type": "code",
   "execution_count": null,
   "metadata": {},
   "outputs": [],
   "source": []
  }
 ],
 "metadata": {
  "kernelspec": {
   "display_name": "Python 3",
   "language": "python",
   "name": "python3"
  },
  "language_info": {
   "codemirror_mode": {
    "name": "ipython",
    "version": 3
   },
   "file_extension": ".py",
   "mimetype": "text/x-python",
   "name": "python",
   "nbconvert_exporter": "python",
   "pygments_lexer": "ipython3",
   "version": "3.7.3"
  }
 },
 "nbformat": 4,
 "nbformat_minor": 2
}
