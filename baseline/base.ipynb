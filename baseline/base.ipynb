{
 "cells": [
  {
   "cell_type": "code",
   "execution_count": 2,
   "metadata": {},
   "outputs": [],
   "source": [
    "import scispacy\n",
    "import json\n",
    "import spacy\n",
    "from sklearn.utils import shuffle\n",
    "import random"
   ]
  },
  {
   "cell_type": "markdown",
   "metadata": {},
   "source": [
    "## Data"
   ]
  },
  {
   "cell_type": "code",
   "execution_count": 1,
   "metadata": {},
   "outputs": [],
   "source": [
    "types = ('CORONAVIRUS', 'IMMUNE_RESPONSE')"
   ]
  },
  {
   "cell_type": "code",
   "execution_count": 3,
   "metadata": {},
   "outputs": [],
   "source": [
    "X, y = [], []"
   ]
  },
  {
   "cell_type": "code",
   "execution_count": 4,
   "metadata": {},
   "outputs": [],
   "source": [
    "with open('./SS-NER-prune.json') as file:\n",
    "    for line in file:\n",
    "        d = json.loads(line)\n",
    "        X.append(d)"
   ]
  },
  {
   "cell_type": "code",
   "execution_count": 5,
   "metadata": {},
   "outputs": [],
   "source": [
    "test_X = X[:int(len(X)*(0.2))]\n",
    "# test_y = y[:10]"
   ]
  },
  {
   "cell_type": "markdown",
   "metadata": {},
   "source": [
    "## Spacy"
   ]
  },
  {
   "cell_type": "markdown",
   "metadata": {},
   "source": [
    "### en_ner_bc5cdr"
   ]
  },
  {
   "cell_type": "code",
   "execution_count": 6,
   "metadata": {},
   "outputs": [],
   "source": [
    "bc5cdr = spacy.load(\"en_ner_bc5cdr_md\")"
   ]
  },
  {
   "cell_type": "code",
   "execution_count": 6,
   "metadata": {},
   "outputs": [],
   "source": [
    "from spacy.scorer import Scorer\n",
    "from spacy.tokens import Doc\n",
    "from spacy.training.example import Example"
   ]
  },
  {
   "cell_type": "code",
   "execution_count": 98,
   "metadata": {},
   "outputs": [],
   "source": [
    "def evaluate(ner_model, examples):\n",
    "    scorer = Scorer()\n",
    "    example = []\n",
    "    for input_, annot in examples:\n",
    "        pred = ner_model(input_)\n",
    "        temp = Example.from_dict(pred, dict.fromkeys(annot))\n",
    "        example.append(temp)\n",
    "    scores = scorer.score(example)\n",
    "    return scores"
   ]
  },
  {
   "cell_type": "code",
   "execution_count": 90,
   "metadata": {},
   "outputs": [],
   "source": [
    "\n",
    "scorer = Scorer(bc5cdr)"
   ]
  },
  {
   "cell_type": "code",
   "execution_count": 7,
   "metadata": {},
   "outputs": [],
   "source": [
    "from collections import defaultdict"
   ]
  },
  {
   "cell_type": "code",
   "execution_count": 8,
   "metadata": {},
   "outputs": [],
   "source": [
    "ner = bc5cdr.get_pipe('ner')"
   ]
  },
  {
   "cell_type": "code",
   "execution_count": 9,
   "metadata": {},
   "outputs": [
    {
     "data": {
      "text/plain": [
       "('CHEMICAL', 'DISEASE')"
      ]
     },
     "execution_count": 9,
     "metadata": {},
     "output_type": "execute_result"
    }
   ],
   "source": [
    "ner.labels"
   ]
  },
  {
   "cell_type": "code",
   "execution_count": 10,
   "metadata": {},
   "outputs": [],
   "source": [
    "maps = {'CHEMICAL': 'IMMUNE_RESPONSE', 'DISEASE': 'CORONAVIRUS'}"
   ]
  },
  {
   "cell_type": "code",
   "execution_count": null,
   "metadata": {},
   "outputs": [],
   "source": [
    "pred_y = defaultdict(list)\n",
    "ground_y = defaultdict(list)\n",
    "i = 0\n",
    "for d in test_X:\n",
    "    if i % 100 == 0: print(i)\n",
    "    doc = bc5cdr(d['body'])\n",
    "    tmp = defaultdict(list)\n",
    "    for e in doc.ents:\n",
    "        tmp[maps[e.label_]].append(e.text)\n",
    "    for key, val in tmp.items():\n",
    "        pred_y[key].extend(val)\n",
    "    ground = defaultdict(list)\n",
    "    for e in d['entities']:\n",
    "        if e['type'] in types:\n",
    "            ground[e['type']].append(e['text'])\n",
    "    for key, val in ground.items():\n",
    "        ground_y[key].extend(val)\n",
    "    i += 1"
   ]
  },
  {
   "cell_type": "code",
   "execution_count": 13,
   "metadata": {},
   "outputs": [],
   "source": [
    "from collections import Counter"
   ]
  },
  {
   "cell_type": "code",
   "execution_count": 14,
   "metadata": {},
   "outputs": [],
   "source": [
    "def f1(y_true, y_pred):\n",
    "    i = list((Counter(y_true) & Counter(y_pred)).elements())\n",
    "    # i = set(y_true).intersection(y_pred)\n",
    "    recall = len(i) / len(y_true)\n",
    "    precision = len(i) / len(y_pred)\n",
    "    if recall + precision == 0:\n",
    "        return 0\n",
    "    else:\n",
    "        return 2 * (precision * recall) / (precision + recall)"
   ]
  },
  {
   "cell_type": "code",
   "execution_count": 15,
   "metadata": {},
   "outputs": [],
   "source": [
    "def avgf1(true_y, pred_y):\n",
    "    f_list = []\n",
    "    for t, p in zip(true_y, pred_y):\n",
    "        f_list.append(f1(t, p))\n",
    "    return sum(f_list)/len(f_list)"
   ]
  },
  {
   "cell_type": "code",
   "execution_count": 16,
   "metadata": {},
   "outputs": [
    {
     "name": "stdout",
     "output_type": "stream",
     "text": [
      "CORONAVIRUS 0.1530527883940873\n",
      "IMMUNE_RESPONSE 0.19816800293983186\n",
      "over all f1 0.17561039566695957\n"
     ]
    }
   ],
   "source": [
    "total = 0\n",
    "for key, val in ground_y.items():\n",
    "    tmp = avgf1(val, pred_y[key])\n",
    "    total += tmp\n",
    "    print(key, tmp)\n",
    "print('over all f1', total/len(types))"
   ]
  },
  {
   "cell_type": "code",
   "execution_count": 94,
   "metadata": {},
   "outputs": [],
   "source": [
    "# scores = scorer.score(tryx)"
   ]
  },
  {
   "cell_type": "code",
   "execution_count": 72,
   "metadata": {},
   "outputs": [],
   "source": [
    "# sm = spacy.load(\"en_core_sci_sm\")"
   ]
  },
  {
   "cell_type": "code",
   "execution_count": null,
   "metadata": {},
   "outputs": [],
   "source": [
    "# pred_y = defaultdict(list)\n",
    "# ground_y = defaultdict(list)\n",
    "# i = 0\n",
    "# for d in test_X:\n",
    "#     if i % 100 == 0: print(i)\n",
    "#     doc = sm(d['body'])\n",
    "#     tmp = defaultdict(list)\n",
    "#     for e in doc.ents:\n",
    "#         tmp[e.label_].append(e.text)\n",
    "#     for key, val in tmp.items():\n",
    "#         pred_y[key].extend(val)\n",
    "#     ground = defaultdict(list)\n",
    "#     for e in d['entities']:\n",
    "#         if e['type'] in types:\n",
    "#             ground[e['type']].append(e['text'])\n",
    "#     for key, val in ground.items():\n",
    "#         ground_y[key].extend(val)\n",
    "#     i += 1"
   ]
  }
 ],
 "metadata": {
  "interpreter": {
   "hash": "8fab05a02078c9fe43114537b998a6c26642569b3564c13b79e781038c3930d8"
  },
  "kernelspec": {
   "display_name": "Python 3.7.10 64-bit ('test': conda)",
   "language": "python",
   "name": "python3"
  },
  "language_info": {
   "codemirror_mode": {
    "name": "ipython",
    "version": 3
   },
   "file_extension": ".py",
   "mimetype": "text/x-python",
   "name": "python",
   "nbconvert_exporter": "python",
   "pygments_lexer": "ipython3",
   "version": "3.9.4"
  },
  "orig_nbformat": 4
 },
 "nbformat": 4,
 "nbformat_minor": 2
}
